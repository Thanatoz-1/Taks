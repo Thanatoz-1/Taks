{
 "cells": [
  {
   "cell_type": "markdown",
   "metadata": {},
   "source": [
    "![Shipmnt](https://d1qb2nb5cznatu.cloudfront.net/startups/i/823885-206e3154d7d005bfd676bfcc573b088f-medium_jpg.jpg?buster=1481112387)\n",
    "\n",
    "In this notebook we are going to extract the data from the pdfs assigned in the assignment. The PDF's are random, very unorganized information given. The given PDFs are the airway bill of various operations taking place. Here we are going to be working on the extracting useful information from the tables similarity based on [this paper](https://pdfs.semanticscholar.org/f805/a2c0601c3b6b4decc97f0a360daf85085a74.pdf).\n",
    "\n",
    "Lets begin!!!"
   ]
  },
  {
   "cell_type": "code",
   "execution_count": 1,
   "metadata": {},
   "outputs": [],
   "source": [
    "from processing import extractText\n",
    "import os\n",
    "import numpy as np\n",
    "import pandas as pd\n",
    "from pandas.io.json import json_normalize\n",
    "from matplotlib import pyplot as plt\n",
    "%matplotlib inline\n",
    "import json\n",
    "import warnings\n",
    "warnings.filterwarnings('ignore')"
   ]
  },
  {
   "cell_type": "code",
   "execution_count": 2,
   "metadata": {},
   "outputs": [
    {
     "data": {
      "text/html": [
       "<div>\n",
       "<style scoped>\n",
       "    .dataframe tbody tr th:only-of-type {\n",
       "        vertical-align: middle;\n",
       "    }\n",
       "\n",
       "    .dataframe tbody tr th {\n",
       "        vertical-align: top;\n",
       "    }\n",
       "\n",
       "    .dataframe thead th {\n",
       "        text-align: right;\n",
       "    }\n",
       "</style>\n",
       "<table border=\"1\" class=\"dataframe\">\n",
       "  <thead>\n",
       "    <tr style=\"text-align: right;\">\n",
       "      <th></th>\n",
       "      <th>CneeCode</th>\n",
       "      <th>ShprCode</th>\n",
       "      <th>ID</th>\n",
       "      <th>OagCode</th>\n",
       "    </tr>\n",
       "  </thead>\n",
       "  <tbody>\n",
       "    <tr>\n",
       "      <th>15</th>\n",
       "      <td>92945</td>\n",
       "      <td>5230</td>\n",
       "      <td>2608157</td>\n",
       "      <td>632</td>\n",
       "    </tr>\n",
       "    <tr>\n",
       "      <th>13</th>\n",
       "      <td>8482</td>\n",
       "      <td>38138</td>\n",
       "      <td>2608157</td>\n",
       "      <td>632</td>\n",
       "    </tr>\n",
       "    <tr>\n",
       "      <th>14</th>\n",
       "      <td>42458</td>\n",
       "      <td>873</td>\n",
       "      <td>2608157</td>\n",
       "      <td>632</td>\n",
       "    </tr>\n",
       "    <tr>\n",
       "      <th>12</th>\n",
       "      <td>101469</td>\n",
       "      <td>25562</td>\n",
       "      <td>2608158</td>\n",
       "      <td>632</td>\n",
       "    </tr>\n",
       "    <tr>\n",
       "      <th>11</th>\n",
       "      <td>30665</td>\n",
       "      <td>65750</td>\n",
       "      <td>2608159</td>\n",
       "      <td>632</td>\n",
       "    </tr>\n",
       "  </tbody>\n",
       "</table>\n",
       "</div>"
      ],
      "text/plain": [
       "   CneeCode ShprCode       ID OagCode\n",
       "15    92945     5230  2608157     632\n",
       "13     8482    38138  2608157     632\n",
       "14    42458      873  2608157     632\n",
       "12   101469    25562  2608158     632\n",
       "11    30665    65750  2608159     632"
      ]
     },
     "execution_count": 2,
     "metadata": {},
     "output_type": "execute_result"
    }
   ],
   "source": [
    "identify = json_normalize(json.loads(open('./Data/identify_codes.json','r').read()),\n",
    "                          ['house'],['ID','OagCode'])\n",
    "identify.ID=identify.ID.astype(int)\n",
    "identify=identify.sort_values(\"ID\")\n",
    "identify.head()"
   ]
  },
  {
   "cell_type": "code",
   "execution_count": 3,
   "metadata": {},
   "outputs": [
    {
     "data": {
      "text/html": [
       "<div>\n",
       "<style scoped>\n",
       "    .dataframe tbody tr th:only-of-type {\n",
       "        vertical-align: middle;\n",
       "    }\n",
       "\n",
       "    .dataframe tbody tr th {\n",
       "        vertical-align: top;\n",
       "    }\n",
       "\n",
       "    .dataframe thead th {\n",
       "        text-align: right;\n",
       "    }\n",
       "</style>\n",
       "<table border=\"1\" class=\"dataframe\">\n",
       "  <thead>\n",
       "    <tr style=\"text-align: right;\">\n",
       "      <th></th>\n",
       "      <th>DocType</th>\n",
       "      <th>PageID</th>\n",
       "      <th>Path</th>\n",
       "      <th>ID</th>\n",
       "    </tr>\n",
       "  </thead>\n",
       "  <tbody>\n",
       "    <tr>\n",
       "      <th>2</th>\n",
       "      <td>HAWB</td>\n",
       "      <td>3</td>\n",
       "      <td>AICST/MF/HAWB/233339-JFK3404_30342017100103520...</td>\n",
       "      <td>2608157</td>\n",
       "    </tr>\n",
       "    <tr>\n",
       "      <th>3</th>\n",
       "      <td>HAWB</td>\n",
       "      <td>4</td>\n",
       "      <td>AICST/MF/HAWB/233340-JFK3404_30342017100103520...</td>\n",
       "      <td>2608157</td>\n",
       "    </tr>\n",
       "    <tr>\n",
       "      <th>4</th>\n",
       "      <td>HAWB</td>\n",
       "      <td>5</td>\n",
       "      <td>AICST/MF/HAWB/233341-JFK3404_30342017100103520...</td>\n",
       "      <td>2608157</td>\n",
       "    </tr>\n",
       "    <tr>\n",
       "      <th>7</th>\n",
       "      <td>HAWB</td>\n",
       "      <td>3</td>\n",
       "      <td>AICST/MF/HAWB/233338-JFK3393_22942017100103520...</td>\n",
       "      <td>2608158</td>\n",
       "    </tr>\n",
       "    <tr>\n",
       "      <th>10</th>\n",
       "      <td>HAWB</td>\n",
       "      <td>3</td>\n",
       "      <td>AICST/MF/HAWB/233337-JFK3451_24922017100103520...</td>\n",
       "      <td>2608159</td>\n",
       "    </tr>\n",
       "  </tbody>\n",
       "</table>\n",
       "</div>"
      ],
      "text/plain": [
       "   DocType  PageID                                               Path       ID\n",
       "2     HAWB       3  AICST/MF/HAWB/233339-JFK3404_30342017100103520...  2608157\n",
       "3     HAWB       4  AICST/MF/HAWB/233340-JFK3404_30342017100103520...  2608157\n",
       "4     HAWB       5  AICST/MF/HAWB/233341-JFK3404_30342017100103520...  2608157\n",
       "7     HAWB       3  AICST/MF/HAWB/233338-JFK3393_22942017100103520...  2608158\n",
       "10    HAWB       3  AICST/MF/HAWB/233337-JFK3451_24922017100103520...  2608159"
      ]
     },
     "execution_count": 3,
     "metadata": {},
     "output_type": "execute_result"
    }
   ],
   "source": [
    "# Normalize the json and create a data frame\n",
    "document_map = json_normalize(json.loads(open('./Data/document_label.json','r').read()),['Attachment','Page:'],['ID'])\n",
    "#remove other than HWAB\n",
    "document_map=document_map[document_map.DocType=='HAWB']\n",
    "document_map.head()"
   ]
  },
  {
   "cell_type": "code",
   "execution_count": 4,
   "metadata": {},
   "outputs": [
    {
     "name": "stdout",
     "output_type": "stream",
     "text": [
      "CneeCode    object\n",
      "ShprCode    object\n",
      "ID           int64\n",
      "OagCode     object\n",
      "dtype: object\n",
      "DocType    object\n",
      "PageID      int64\n",
      "Path       object\n",
      "ID          int64\n",
      "dtype: object\n"
     ]
    }
   ],
   "source": [
    "print(identify.dtypes)\n",
    "print(document_map.dtypes)"
   ]
  },
  {
   "cell_type": "markdown",
   "metadata": {},
   "source": [
    "Now that we have already done loading our primary tables in the notebook, we are going to check how many of the files link provided actually contain the files. The pdf here are only of HAWB as it is the only point of interest right now.\n",
    "\n",
    "Lets calculate"
   ]
  },
  {
   "cell_type": "code",
   "execution_count": 5,
   "metadata": {},
   "outputs": [
    {
     "name": "stdout",
     "output_type": "stream",
     "text": [
      "401\n"
     ]
    }
   ],
   "source": [
    "cnt=0\n",
    "for i,j in zip(document_map.Path.index, document_map.Path):\n",
    "    if os.path.exists(j.replace('\\\\','/')):\n",
    "        cnt+=1\n",
    "        \n",
    "print(cnt)"
   ]
  },
  {
   "cell_type": "code",
   "execution_count": 6,
   "metadata": {},
   "outputs": [
    {
     "name": "stdout",
     "output_type": "stream",
     "text": [
      "Of all the mentioned files, only 401 exist which is this fraction\n"
     ]
    },
    {
     "data": {
      "text/plain": [
       "([<matplotlib.patches.Wedge at 0x7f2d3f2a2e10>,\n",
       "  <matplotlib.patches.Wedge at 0x7f2d3f2a8b70>],\n",
       " [Text(2.15118,0.460878,'Exists'), Text(-2.15118,-0.460878,'DoesNotExist')])"
      ]
     },
     "execution_count": 6,
     "metadata": {},
     "output_type": "execute_result"
    },
    {
     "data": {
      "image/png": "[encoded data removed]",
      "text/plain": [
       "<Figure size 216x216 with 1 Axes>"
      ]
     },
     "metadata": {},
     "output_type": "display_data"
    }
   ],
   "source": [
    "print('Of all the mentioned files, only 401 exist which is this fraction')\n",
    "\n",
    "plt.figure(figsize=(3,3))\n",
    "plt.pie([cnt, document_map.shape[0]],labels=['Exists','DoesNotExist'], radius=2)"
   ]
  },
  {
   "cell_type": "markdown",
   "metadata": {},
   "source": [
    "We can clearly see here the files in the dataset with the size of the dataset. \n",
    "\n",
    "Lets try to work on the provided files itself and then try to get maximum possible data from the dataset."
   ]
  },
  {
   "cell_type": "markdown",
   "metadata": {},
   "source": [
    "As we have already seen that the maximum number of invoices belong to *HERMES TRANSPORT LOGISTICS*. So we will primarily try to match the similarity with the *HERMES'* invoices and if the match is not found, we are going to proceed and check for other templates. We have specifically chosen forwarders with most number of files here to ease our process of matching files in the dataset. If you want, you can have a look at the  [preprocessing file](https://github.com/Thanatoz-1/Taks/) for codes."
   ]
  },
  {
   "cell_type": "code",
   "execution_count": 7,
   "metadata": {
    "scrolled": false
   },
   "outputs": [
    {
     "name": "stdout",
     "output_type": "stream",
     "text": [
      "4761 FRANKFURT DELHI\n",
      "4764 AIRPORT DESTINATION\n",
      "4783 HAMBURG MADRAS\n",
      "4791 BRUSSELS BOMBAY\n",
      "4794 BRATISLAV DELHI\n",
      "4828 BY INFORMATION\n",
      "4833 FRANKFURT DELHI\n",
      "4834 FRANKFURT DELHI\n",
      "4839 BRUSSELS BOMBAY\n",
      "4840 BRUSSELS BOMBAY\n",
      "4841 BRUSSELS BOMBAY\n",
      "4857 FRANKFURT MUMBAI\n",
      "4858 FRANKFURT MUMBAI\n",
      "4859 FRANKFURT MUMBAI\n",
      "4861 FRANKFURT BANGALORE\n",
      "4880 DEPARTURE AIRPORT\n",
      "4881 DEPARTURE AIRPORT\n",
      "4906 BRUSSELS BOMBAY\n",
      "4907 BRUSSELS BOMBAY\n",
      "4908 BRUSSELS BOMBAY\n",
      "4912 BRUSSELS BOMBAY\n",
      "4913 BRUSSELS BOMBAY\n",
      "4914 BRUSSELS BOMBAY\n",
      "4942 BRUSSELS BOMBAY\n",
      "4943 BRUSSELS BOMBAY\n",
      "4944 BRUSSELS BOMBAY\n",
      "4945 BRUSSELS BOMBAY\n",
      "4948 BRUSSELS BOMBAY\n",
      "4951 FRANKFURT DELHI\n",
      "4956 DEPARTURE AIRPORT\n",
      "4967 BY INFORMATION\n",
      "5012 FRANKFURT MADRAS\n",
      "5039 DEPARTURE AIRPORT\n",
      "5078 FRANKFURT DELHI\n",
      "5103 DEPARTURE AIRPORT\n",
      "5106 DEPARTURE AIRPORT\n",
      "5107 DEPARTURE AIRPORT\n",
      "5108 DEPARTURE AIRPORT\n",
      "5123 BRUSSELS BOMBAY\n",
      "5136 AMSTERDA BANGALORE\n",
      "5145 AMSTERDA NEW\n",
      "5148 FRANKFURT DELHI\n",
      "5156 DEPARTURE AIRPORT\n",
      "5157 DEPARTURE AIRPORT\n",
      "5175 FRANKFURT BANGALORE\n",
      "5185 DEPARTURE AIRPORT\n",
      "5187 FRANKFURT MADRAS\n",
      "5198 FRANKFURT MUMBAI\n",
      "5199 FRANKFURT MUMBAI\n",
      "5200 FRANKFURT MUMBAI\n",
      "5201 FRANKFURT MUMBAI\n",
      "5210 FRANKFURT DELHI\n",
      "5211 FRANKFURT DELHI\n",
      "5212 FRANKFURT DELHI\n",
      "5244 DEPARTURE AIRPORT\n",
      "5250 DEPARTURE AIRPORT\n",
      "5253 DEPARTURE AIRPORT\n",
      "5277 DEPARTURE AIRPORT\n",
      "5284 FRANKFURT DELHI\n",
      "5315 DEPARTURE AIRPORT\n",
      "5316 DEPARTURE AIRPORT\n",
      "5317 DEPARTURE AIRPORT\n",
      "5318 DEPARTURE AIRPORT\n",
      "5319 DEPARTURE AIRPORT\n",
      "5320 DEPARTURE AIRPORT\n",
      "5321 DEPARTURE AIRPORT\n",
      "5341 DEPARTURE AIRPORT\n",
      "5342 DEPARTURE AIRPORT\n",
      "5398 BRUSSELS BOMBAY\n",
      "5407 DEPARTURE AIRPORT\n",
      "5440 FRANKFURT MUMBAI\n",
      "5464 BRATISLAV DELHI\n",
      "5465 AMSTERDA MADRAS\n",
      "5483 FRANKFURT MUMBAI\n",
      "5557 BRUSSELS BOMBAY\n",
      "5558 BRUSSELS BOMBAY\n",
      "5559 BRUSSELS BOMBAY\n",
      "5569 FRANKFURT MUMBAI\n",
      "5570 FRANKFURT MUMBAI\n",
      "5571 FRANKFURT MUMBAI\n",
      "5572 FRANKFURT MUMBAI\n",
      "5573 FRANKFURT MUMBAI\n",
      "5574 FRANKFURT MUMBAI\n",
      "5578 FRANKFURT DELHI\n",
      "5579 FRANKFURT DELHI\n",
      "5580 FRANKFURT DELHI\n",
      "5581 FRANKFURT DELHI\n",
      "5635 STUTTGART DELHI\n",
      "5686 FRANKFURT MUMBAI\n",
      "5702 DEPARTURE AIRPORT\n",
      "5703 DEPARTURE AIRPORT\n",
      "5707 BRATISLAV DELHI\n",
      "5766 DEPARTURE AIRPORT\n",
      "5767 DEPARTURE AIRPORT\n",
      "5768 DEPARTURE AIRPORT\n",
      "5772 DEPARTURE AIRPORT\n",
      "5773 DEPARTURE AIRPORT\n",
      "5774 DEPARTURE AIRPORT\n",
      "5775 DEPARTURE AIRPORT\n",
      "5824 FRANKFURT BANGALORE\n",
      "5833 DEPARTURE AIRPORT\n",
      "5841 DEPARTURE AIRPORT\n",
      "5862 FRANKFURT DELHI\n",
      "5906 BRUSSELS BOMBAY\n",
      "5919 LONDON BANGALORE\n",
      "5933 57-1 AF\n",
      "5937 FRANKFURT MUMBAI\n",
      "5972 BRUSSELS BOMBAY\n",
      "5997 FRANKFURT MUMBAI\n",
      "5998 FRANKFURT MUMBAI\n",
      "5999 FRANKFURT MUMBAI\n",
      "111\n"
     ]
    }
   ],
   "source": [
    "cnt=0\n",
    "document_map['From']=np.nan\n",
    "document_map['To']=np.nan\n",
    "for index, file in zip(document_map.index, document_map.Path):\n",
    "    try:\n",
    "        extract=extractText(file)\n",
    "        if extract!=None:\n",
    "            vals=extract\n",
    "            print(index, vals[0].split()[0].upper(),vals[1].split()[0].upper())\n",
    "            try:\n",
    "                document_map['From'][index]=vals[0].split()[0].upper()\n",
    "                document_map['To'][index]=vals[1].split()[0].upper()\n",
    "            except Exception as e:\n",
    "                print(e)\n",
    "            cnt+=1\n",
    "#     print(index, file)\n",
    "    except:\n",
    "        pass\n",
    "    \n",
    "print(cnt)"
   ]
  },
  {
   "cell_type": "code",
   "execution_count": 8,
   "metadata": {
    "scrolled": false
   },
   "outputs": [
    {
     "data": {
      "text/html": [
       "<div>\n",
       "<style scoped>\n",
       "    .dataframe tbody tr th:only-of-type {\n",
       "        vertical-align: middle;\n",
       "    }\n",
       "\n",
       "    .dataframe tbody tr th {\n",
       "        vertical-align: top;\n",
       "    }\n",
       "\n",
       "    .dataframe thead th {\n",
       "        text-align: right;\n",
       "    }\n",
       "</style>\n",
       "<table border=\"1\" class=\"dataframe\">\n",
       "  <thead>\n",
       "    <tr style=\"text-align: right;\">\n",
       "      <th></th>\n",
       "      <th>DocType</th>\n",
       "      <th>PageID</th>\n",
       "      <th>Path</th>\n",
       "      <th>ID</th>\n",
       "      <th>From</th>\n",
       "      <th>To</th>\n",
       "    </tr>\n",
       "  </thead>\n",
       "  <tbody>\n",
       "    <tr>\n",
       "      <th>2</th>\n",
       "      <td>HAWB</td>\n",
       "      <td>3</td>\n",
       "      <td>AICST/MF/HAWB/233339-JFK3404_30342017100103520...</td>\n",
       "      <td>2608157</td>\n",
       "      <td>NaN</td>\n",
       "      <td>NaN</td>\n",
       "    </tr>\n",
       "    <tr>\n",
       "      <th>3</th>\n",
       "      <td>HAWB</td>\n",
       "      <td>4</td>\n",
       "      <td>AICST/MF/HAWB/233340-JFK3404_30342017100103520...</td>\n",
       "      <td>2608157</td>\n",
       "      <td>NaN</td>\n",
       "      <td>NaN</td>\n",
       "    </tr>\n",
       "    <tr>\n",
       "      <th>4</th>\n",
       "      <td>HAWB</td>\n",
       "      <td>5</td>\n",
       "      <td>AICST/MF/HAWB/233341-JFK3404_30342017100103520...</td>\n",
       "      <td>2608157</td>\n",
       "      <td>NaN</td>\n",
       "      <td>NaN</td>\n",
       "    </tr>\n",
       "    <tr>\n",
       "      <th>7</th>\n",
       "      <td>HAWB</td>\n",
       "      <td>3</td>\n",
       "      <td>AICST/MF/HAWB/233338-JFK3393_22942017100103520...</td>\n",
       "      <td>2608158</td>\n",
       "      <td>NaN</td>\n",
       "      <td>NaN</td>\n",
       "    </tr>\n",
       "    <tr>\n",
       "      <th>10</th>\n",
       "      <td>HAWB</td>\n",
       "      <td>3</td>\n",
       "      <td>AICST/MF/HAWB/233337-JFK3451_24922017100103520...</td>\n",
       "      <td>2608159</td>\n",
       "      <td>NaN</td>\n",
       "      <td>NaN</td>\n",
       "    </tr>\n",
       "  </tbody>\n",
       "</table>\n",
       "</div>"
      ],
      "text/plain": [
       "   DocType  PageID                                               Path  \\\n",
       "2     HAWB       3  AICST/MF/HAWB/233339-JFK3404_30342017100103520...   \n",
       "3     HAWB       4  AICST/MF/HAWB/233340-JFK3404_30342017100103520...   \n",
       "4     HAWB       5  AICST/MF/HAWB/233341-JFK3404_30342017100103520...   \n",
       "7     HAWB       3  AICST/MF/HAWB/233338-JFK3393_22942017100103520...   \n",
       "10    HAWB       3  AICST/MF/HAWB/233337-JFK3451_24922017100103520...   \n",
       "\n",
       "         ID From   To  \n",
       "2   2608157  NaN  NaN  \n",
       "3   2608157  NaN  NaN  \n",
       "4   2608157  NaN  NaN  \n",
       "7   2608158  NaN  NaN  \n",
       "10  2608159  NaN  NaN  "
      ]
     },
     "execution_count": 8,
     "metadata": {},
     "output_type": "execute_result"
    }
   ],
   "source": [
    "document_map.head()"
   ]
  },
  {
   "cell_type": "markdown",
   "metadata": {},
   "source": [
    "We can see that the obtained results we have got so far contains noise too. This noise can easily be cleaned by performing some manual cleaning of the csv"
   ]
  },
  {
   "cell_type": "code",
   "execution_count": 8,
   "metadata": {},
   "outputs": [],
   "source": [
    "document_map.to_csv('./Data/document_features.csv')"
   ]
  },
  {
   "cell_type": "code",
   "execution_count": 18,
   "metadata": {},
   "outputs": [],
   "source": [
    "document_map=pd.read_csv('./Data/document_features.csv')"
   ]
  },
  {
   "cell_type": "code",
   "execution_count": 19,
   "metadata": {},
   "outputs": [],
   "source": [
    "document_map.drop_duplicates(subset=['ID']).to_csv('./Data/test.csv')"
   ]
  },
  {
   "cell_type": "markdown",
   "metadata": {},
   "source": [
    "#### Goto\n",
    "<button onclick=\"location.href='https://tushardhyani.ml/Taks/html'\" style='float:left;' type=\"button\">Home</button>\n",
    "\n",
    "<button onclick=\"location.href='https://tushardhyani.ml/Taks/html/EDA'\" style='margin-left:33%' type=\"button\">Extract</button>\n",
    "<button onclick=\"location.href='https://tushardhyani.ml/Taks/html/Model'\" style='float:right;' type=\"button\">Model</button>\n",
    "\n"
   ]
  }
 ],
 "metadata": {
  "kernelspec": {
   "display_name": "Python 3",
   "language": "python",
   "name": "python3"
  },
  "language_info": {
   "codemirror_mode": {
    "name": "ipython",
    "version": 3
   },
   "file_extension": ".py",
   "mimetype": "text/x-python",
   "name": "python",
   "nbconvert_exporter": "python",
   "pygments_lexer": "ipython3",
   "version": "3.7.0"
  }
 },
 "nbformat": 4,
 "nbformat_minor": 2
}
